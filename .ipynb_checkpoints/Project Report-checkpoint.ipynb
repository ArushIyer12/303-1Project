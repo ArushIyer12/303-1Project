{
 "cells": [
  {
   "cell_type": "raw",
   "id": "33dd6c4c",
   "metadata": {},
   "source": [
    "---\n",
    "title: \"Project Report\"\n",
    "subtitle: Team name\n",
    "author: Author 1, Author 2, Author 3, and Author 4 \n",
    "date: 02/27/2023\n",
    "number-sections: true\n",
    "abstract: _The ABSTRACT is to be in fully-justified italicized text at the top of the report, below the author information. The abstract section must summarise the problem statement, the developed model(s), the metric(s) optimized and the recommendations to the stakeholders based on the model. You may also briefly mention any major EDA-based insights that helped develop the model or directly translated into recommendations to the stakeholders. However, the abstract must not be more than 200 words in length_.\n",
    "format: \n",
    "  html:\n",
    "    toc: true\n",
    "    toc-title: Contents\n",
    "    self-contained: true\n",
    "    font-size: 100%\n",
    "    toc-depth: 4\n",
    "    mainfont: serif\n",
    "jupyter: python3\n",
    "---"
   ]
  },
  {
   "cell_type": "markdown",
   "id": "7e2bdc95",
   "metadata": {},
   "source": [
    "**Abstract**: *On average, Algeria experiences 1,636 forest fires every year. These forest fires burn 35,024 ha of forest lands annually. Scientists have also determined that forest fires explain 90% of Algerian forest land degradation. The majority of these fires (80%) are of unknown origin, making them difficult to anticipate. Our goal was to create a model that will accurately predict the chance of a forest fire occurring based on climate data. A major stakeholder for this project is the Algerian government. Reducing forest fires has been a major governmental initiative, especially since devastating fires in early 2022. Our model could help inform more efficient wildfire management programs. Additional stakeholders include the Algerian people and numerous wildlife organizations and researchers. We developed a logistic regression model that uses interactions between climate and forest fire index predictors that does not fail to predict a forest fire when one occurs (100% recall). We recommend stakeholders optimize data collection of the predictors used in our model and employ a similar model to inform wildfire preparation efforts and processes.*"
   ]
  },
  {
   "cell_type": "markdown",
   "id": "aba5ee91",
   "metadata": {},
   "source": [
    "## Length of the report {-}\n",
    "The length of the report must be no more than 15 pages, when printed as PDF. However, there is no requirement on the minimum number of pages.\n",
    "\n",
    "You may put additional stuff as Appendix. You may refer to the Appendix in the main report to support your arguments. However, your appendix is unlikely to be checked while grading, unless the grader deems it necessary. The appendix, references, and information about GitHub and individual contribution will not be included in the page count, and there is no limit on the length of the appendix.\n",
    "\n",
    "**Delete this section from the report, when using this template.** "
   ]
  },
  {
   "cell_type": "markdown",
   "id": "93d3d9ed",
   "metadata": {},
   "source": [
    "## Code should be put separately in the code template {-}\n",
    "Your report should be in a research-paper like style. If there is something that can only be explained by showing the code, then you may put it, otherwise do not put the code in the report. We will check your code in the code template. \n",
    "\n",
    "**Delete this section from the report, when using this template.** "
   ]
  },
  {
   "cell_type": "markdown",
   "id": "0116f49b",
   "metadata": {},
   "source": [
    "## Background / Motivation"
   ]
  },
  {
   "cell_type": "markdown",
   "id": "98bb68cf",
   "metadata": {},
   "source": [
    "As mentioned in the abstract, forest fires are a major problem in Algeria. In addition to destroying valuable forest land, forest fires are responsible for numerous deaths. In 2022, wildfires killed 44 people and displaced 500 families. Predicting when these wildfires occur is integral to preventing deaths and the loss of forest land\n",
    "\n",
    "\n",
    "https://reliefweb.int/disaster/fr-2022-000297-dza"
   ]
  },
  {
   "cell_type": "markdown",
   "id": "84ff1421",
   "metadata": {},
   "source": [
    "## Problem statement "
   ]
  },
  {
   "cell_type": "markdown",
   "id": "40edd077",
   "metadata": {},
   "source": [
    "Our goal was to create a model that uses climate data to predict the likelihood of a forest fire occuring. This is a classification problem and our main goal was prediction. One important note is that we decided that failing to predict a fire when one occurred was significantly worse than falsely predicting a fire when there was none. This informed our model building philosophy."
   ]
  },
  {
   "cell_type": "markdown",
   "id": "38c7b95f",
   "metadata": {},
   "source": [
    "## Data sources\n",
    "What data did you use? Provide details about your data. Include links to data if you are using open-access data."
   ]
  },
  {
   "cell_type": "markdown",
   "id": "9355687b",
   "metadata": {},
   "source": [
    "The data source used in this project is the Algerian Forest Fires Dataset Data Set, and it is from the UCI Machine Learning Repository. It is a multivariate data set with 244 instances of whether a fire occured or not on a specific day in the period from June 2012 to September 2012, across two regions in Northern Algeria, Bejaia region in the northeast and the Sidi Bel-abbes region in the northwest. It has 12 variables in total, including 6 indexes from the Fire Weather Index (FWI) system, a unitless system widely used to measure  general fire intensity potential. Such variables are as follows with the scales in which they can be at minimum or maximum:\n",
    "- Fine Fuel Moisture Code (FFMC): 28.6 to 92.5\n",
    "- Duff Moisture Code (DMC): 1.1 to 65.9\n",
    "- Drought Code (DC): 7 to 220.4\n",
    "- Initial Spread Index (ISI): 0 to 18.5\n",
    "- Buildup Index (BUI): 1.1 to 68\n",
    "- Fire Weather Index (FWI): 0 to 31.1\n",
    "- Temp (at noon) in Celsius: 22 to 42\n",
    "- Relative Humidity (RH) in %: 21 to 90 \n",
    "- Wind speed (Ws) in km/h: 6 to 29 \n",
    "- Rain (total day) in mm: 0 to 16.8\n",
    "\n",
    "In our analysis, we found that using day or month as a function of analysis was almost useless, and thus excluded it from our model. Additionally, we had to take into consideration the collinearity in our data. With the FWI system, many of the variables are derived from the same variables. The FFMC is derived from Temp, RH, Wind, and Rain. The ISI is derived from FFMC and Wind. Then, the DMC is based on Temp, RH, and Rain. DC is derived from Temperature and Rain only. Then, DC and DMC are what the BUI is derived from. Finally, ISI and BUI is what FWI is based on. So, dealing with these variables stacking from each other, we took this collinearity into consideration when creating our model.\n"
   ]
  },
  {
   "cell_type": "markdown",
   "id": "8c255035",
   "metadata": {},
   "source": [
    "## Stakeholders\n",
    "Who cares? If you are successful, what difference will it make to them?"
   ]
  },
  {
   "cell_type": "markdown",
   "id": "5c9fe318",
   "metadata": {},
   "source": [
    "With the completion of this model, we hope that the model will be able to support the Algerian government, the Algerian people, and local wildlife/climate organizations and researchers.\n",
    "Being able to accurate predict forest fires will allow the Algerian government to properly appropriate funds and staff members to the places and groups that need it most, since they can easily predict whether there is or isn't a fire. This model will allow the Algerian people to live a bit more peacefully, since they will not have the stress of misidentifying a fire. Fires will be accurately predicted and these stakeholders will rest easy knowing that if the model does not class certain indexes as a fire, there actually isn't a fire.\n",
    "As climate change becomes a more and more important topic in today's world, local and even international wildlife and climate groups will benefit from this model. With this classification model, and its increased use, these organizations will be able to learn about trends within this region and more broadly, within the continent. "
   ]
  },
  {
   "cell_type": "markdown",
   "id": "fe7ea9bb",
   "metadata": {},
   "source": [
    "## Data quality check / cleaning / preparation "
   ]
  },
  {
   "cell_type": "markdown",
   "id": "75e4ba62",
   "metadata": {},
   "source": [
    "The code represented below is necessary to demonstrate the distribution of values of each variable in tabular form, before and data cleaning occured. From the data quality check, we found that there were only two rows with missing values. One of the rows that had missing values was simply a row utilized for labelling by the publisher of the data. They used it to show that Rows 1-122 is from Bejaia, Row 123 onwards is Sidi Bel-abbes. We decided to drop that row and then create a new column that labelled the Regions numerically, Region 1 as Bejaia and Region 2 as Sidi Bel-abbes. The other missing row was missing data, but since it was only one row, and the data was really consistent and clean, we decided to drop it. Afterwards, we had to clean some of the data inputs for \"no fire\" and \"fire\". Many of them had odd, unecessary spacing issues, so we took out the spaces and then assigned dummy variables for \"no fire\" and \"fire\", being 0 and 1 respectively. Then, the dataypes needed to be converted data types to workable, numerical data types. Finally, we created the test and train sets, utilizing 0.3 test and 0.7 train, as it seemed to create the best performance result for the set. "
   ]
  },
  {
   "cell_type": "code",
   "execution_count": 10,
   "id": "9e92ff96",
   "metadata": {
    "scrolled": true
   },
   "outputs": [
    {
     "data": {
      "text/html": [
       "<div>\n",
       "<style scoped>\n",
       "    .dataframe tbody tr th:only-of-type {\n",
       "        vertical-align: middle;\n",
       "    }\n",
       "\n",
       "    .dataframe tbody tr th {\n",
       "        vertical-align: top;\n",
       "    }\n",
       "\n",
       "    .dataframe thead th {\n",
       "        text-align: right;\n",
       "    }\n",
       "</style>\n",
       "<table border=\"1\" class=\"dataframe\">\n",
       "  <thead>\n",
       "    <tr style=\"text-align: right;\">\n",
       "      <th></th>\n",
       "      <th>day</th>\n",
       "      <th>month</th>\n",
       "      <th>year</th>\n",
       "      <th>Temperature</th>\n",
       "      <th>RH</th>\n",
       "      <th>Ws</th>\n",
       "      <th>Rain</th>\n",
       "      <th>FFMC</th>\n",
       "      <th>DMC</th>\n",
       "      <th>DC</th>\n",
       "      <th>ISI</th>\n",
       "      <th>BUI</th>\n",
       "      <th>FWI</th>\n",
       "      <th>Classes</th>\n",
       "    </tr>\n",
       "  </thead>\n",
       "  <tbody>\n",
       "    <tr>\n",
       "      <th>count</th>\n",
       "      <td>246</td>\n",
       "      <td>245</td>\n",
       "      <td>245</td>\n",
       "      <td>245</td>\n",
       "      <td>245</td>\n",
       "      <td>245</td>\n",
       "      <td>245</td>\n",
       "      <td>245</td>\n",
       "      <td>245</td>\n",
       "      <td>245</td>\n",
       "      <td>245</td>\n",
       "      <td>245</td>\n",
       "      <td>245</td>\n",
       "      <td>244</td>\n",
       "    </tr>\n",
       "    <tr>\n",
       "      <th>unique</th>\n",
       "      <td>33</td>\n",
       "      <td>5</td>\n",
       "      <td>2</td>\n",
       "      <td>20</td>\n",
       "      <td>63</td>\n",
       "      <td>19</td>\n",
       "      <td>40</td>\n",
       "      <td>174</td>\n",
       "      <td>167</td>\n",
       "      <td>199</td>\n",
       "      <td>107</td>\n",
       "      <td>175</td>\n",
       "      <td>128</td>\n",
       "      <td>9</td>\n",
       "    </tr>\n",
       "    <tr>\n",
       "      <th>top</th>\n",
       "      <td>01</td>\n",
       "      <td>07</td>\n",
       "      <td>2012</td>\n",
       "      <td>35</td>\n",
       "      <td>64</td>\n",
       "      <td>14</td>\n",
       "      <td>0</td>\n",
       "      <td>88.9</td>\n",
       "      <td>7.9</td>\n",
       "      <td>8</td>\n",
       "      <td>1.1</td>\n",
       "      <td>3</td>\n",
       "      <td>0.4</td>\n",
       "      <td>fire</td>\n",
       "    </tr>\n",
       "    <tr>\n",
       "      <th>freq</th>\n",
       "      <td>8</td>\n",
       "      <td>62</td>\n",
       "      <td>244</td>\n",
       "      <td>29</td>\n",
       "      <td>10</td>\n",
       "      <td>43</td>\n",
       "      <td>133</td>\n",
       "      <td>8</td>\n",
       "      <td>5</td>\n",
       "      <td>5</td>\n",
       "      <td>8</td>\n",
       "      <td>5</td>\n",
       "      <td>12</td>\n",
       "      <td>131</td>\n",
       "    </tr>\n",
       "    <tr>\n",
       "      <th>missing_values</th>\n",
       "      <td>0</td>\n",
       "      <td>1</td>\n",
       "      <td>1</td>\n",
       "      <td>1</td>\n",
       "      <td>1</td>\n",
       "      <td>1</td>\n",
       "      <td>1</td>\n",
       "      <td>1</td>\n",
       "      <td>1</td>\n",
       "      <td>1</td>\n",
       "      <td>1</td>\n",
       "      <td>1</td>\n",
       "      <td>1</td>\n",
       "      <td>2</td>\n",
       "    </tr>\n",
       "  </tbody>\n",
       "</table>\n",
       "</div>"
      ],
      "text/plain": [
       "                day month  year Temperature   RH   Ws Rain   FFMC  DMC   DC  \\\n",
       "count           246   245   245         245  245  245   245   245  245  245   \n",
       "unique           33     5     2          20   63   19    40   174  167  199   \n",
       "top              01    07  2012          35   64   14     0  88.9  7.9    8   \n",
       "freq              8    62   244          29   10   43   133     8    5    5   \n",
       "missing_values    0     1     1           1    1    1     1     1    1    1   \n",
       "\n",
       "                ISI  BUI  FWI Classes    \n",
       "count           245  245  245       244  \n",
       "unique          107  175  128         9  \n",
       "top             1.1    3  0.4   fire     \n",
       "freq              8    5   12       131  \n",
       "missing_values    1    1    1         2  "
      ]
     },
     "execution_count": 10,
     "metadata": {},
     "output_type": "execute_result"
    }
   ],
   "source": [
    "import pandas as pd\n",
    "import numpy as np\n",
    "import seaborn as sns\n",
    "import matplotlib.pyplot as plt\n",
    "import warnings\n",
    "warnings.filterwarnings('ignore')\n",
    "data = pd.read_csv('Algerian_forest_fires_dataset_UPDATE.csv',header=1)\n",
    "df = data.copy()\n",
    "\n",
    "summary = df.describe(include='all')\n",
    "\n",
    "missing_values = df.isnull().sum()\n",
    "\n",
    "summary.loc['missing_values'] = missing_values\n",
    "\n",
    "cat_dist = pd.DataFrame(columns=['unique_values', 'top_values'])\n",
    "\n",
    "for column in df.columns:\n",
    "    if df[column].dtype == np.object:\n",
    "        unique_values = df[column].nunique()\n",
    "        frequency = df[column].value_counts(normalize=True)\n",
    "        top_values = \", \".join(list(df[column].value_counts().index[:5]))\n",
    "        cat_dist.loc[column] = [unique_values, top_values]\n",
    "summary"
   ]
  },
  {
   "cell_type": "code",
   "execution_count": 11,
   "id": "62abc035",
   "metadata": {},
   "outputs": [
    {
     "data": {
      "text/html": [
       "<div>\n",
       "<style scoped>\n",
       "    .dataframe tbody tr th:only-of-type {\n",
       "        vertical-align: middle;\n",
       "    }\n",
       "\n",
       "    .dataframe tbody tr th {\n",
       "        vertical-align: top;\n",
       "    }\n",
       "\n",
       "    .dataframe thead th {\n",
       "        text-align: right;\n",
       "    }\n",
       "</style>\n",
       "<table border=\"1\" class=\"dataframe\">\n",
       "  <thead>\n",
       "    <tr style=\"text-align: right;\">\n",
       "      <th></th>\n",
       "      <th>unique_values</th>\n",
       "      <th>top_values</th>\n",
       "    </tr>\n",
       "  </thead>\n",
       "  <tbody>\n",
       "    <tr>\n",
       "      <th>day</th>\n",
       "      <td>33</td>\n",
       "      <td>01, 02, 30, 29, 28</td>\n",
       "    </tr>\n",
       "    <tr>\n",
       "      <th>month</th>\n",
       "      <td>5</td>\n",
       "      <td>07, 08, 06, 09, month</td>\n",
       "    </tr>\n",
       "    <tr>\n",
       "      <th>year</th>\n",
       "      <td>2</td>\n",
       "      <td>2012, year</td>\n",
       "    </tr>\n",
       "    <tr>\n",
       "      <th>Temperature</th>\n",
       "      <td>20</td>\n",
       "      <td>35, 31, 34, 33, 30</td>\n",
       "    </tr>\n",
       "    <tr>\n",
       "      <th>RH</th>\n",
       "      <td>63</td>\n",
       "      <td>64, 55, 58, 54, 78</td>\n",
       "    </tr>\n",
       "    <tr>\n",
       "      <th>Ws</th>\n",
       "      <td>19</td>\n",
       "      <td>14, 15, 13, 17, 16</td>\n",
       "    </tr>\n",
       "    <tr>\n",
       "      <th>Rain</th>\n",
       "      <td>40</td>\n",
       "      <td>0, 0.1, 0.2, 0.3, 0.4</td>\n",
       "    </tr>\n",
       "    <tr>\n",
       "      <th>FFMC</th>\n",
       "      <td>174</td>\n",
       "      <td>88.9, 89.4, 89.1, 85.4, 89.3</td>\n",
       "    </tr>\n",
       "    <tr>\n",
       "      <th>DMC</th>\n",
       "      <td>167</td>\n",
       "      <td>7.9, 12.5, 1.9, 3.4, 4.6</td>\n",
       "    </tr>\n",
       "    <tr>\n",
       "      <th>DC</th>\n",
       "      <td>199</td>\n",
       "      <td>8, 7.6, 7.8, 8.4, 7.5</td>\n",
       "    </tr>\n",
       "    <tr>\n",
       "      <th>ISI</th>\n",
       "      <td>107</td>\n",
       "      <td>1.1, 1.2, 0.4, 4.7, 5.2</td>\n",
       "    </tr>\n",
       "    <tr>\n",
       "      <th>BUI</th>\n",
       "      <td>175</td>\n",
       "      <td>3, 5.1, 8.3, 7.7, 14.2</td>\n",
       "    </tr>\n",
       "    <tr>\n",
       "      <th>FWI</th>\n",
       "      <td>128</td>\n",
       "      <td>0.4, 0.8, 0, 0.5, 0.1</td>\n",
       "    </tr>\n",
       "    <tr>\n",
       "      <th>Classes</th>\n",
       "      <td>9</td>\n",
       "      <td>fire   , not fire   , fire, fire , not fire</td>\n",
       "    </tr>\n",
       "  </tbody>\n",
       "</table>\n",
       "</div>"
      ],
      "text/plain": [
       "             unique_values                                   top_values\n",
       "day                     33                           01, 02, 30, 29, 28\n",
       "month                    5                        07, 08, 06, 09, month\n",
       "year                     2                                   2012, year\n",
       "Temperature             20                           35, 31, 34, 33, 30\n",
       " RH                     63                           64, 55, 58, 54, 78\n",
       " Ws                     19                           14, 15, 13, 17, 16\n",
       "Rain                    40                        0, 0.1, 0.2, 0.3, 0.4\n",
       "FFMC                   174                 88.9, 89.4, 89.1, 85.4, 89.3\n",
       "DMC                    167                     7.9, 12.5, 1.9, 3.4, 4.6\n",
       "DC                     199                        8, 7.6, 7.8, 8.4, 7.5\n",
       "ISI                    107                      1.1, 1.2, 0.4, 4.7, 5.2\n",
       "BUI                    175                       3, 5.1, 8.3, 7.7, 14.2\n",
       "FWI                    128                        0.4, 0.8, 0, 0.5, 0.1\n",
       "Classes                  9  fire   , not fire   , fire, fire , not fire"
      ]
     },
     "execution_count": 11,
     "metadata": {},
     "output_type": "execute_result"
    }
   ],
   "source": [
    "cat_dist"
   ]
  },
  {
   "cell_type": "markdown",
   "id": "fbb11c9b",
   "metadata": {},
   "source": [
    "## Exploratory data analysis (Mel)"
   ]
  },
  {
   "cell_type": "markdown",
   "id": "e4bd74a9",
   "metadata": {},
   "source": [
    "Put the relevant EDA here (visualizations, tables, etc.) that helped you figure out useful predictors for developing the model(s). Only put the EDA that ended up being useful towards developing your final model(s). \n",
    "\n",
    "List the insights (as bullet points) you got from EDA that ended up being useful towards developing your final model. \n",
    "\n",
    "Again, if there are too many plots / tables, you may put them into appendix, and just mention the insights you got from them."
   ]
  },
  {
   "cell_type": "code",
   "execution_count": null,
   "id": "9ad80034",
   "metadata": {},
   "outputs": [],
   "source": []
  },
  {
   "cell_type": "markdown",
   "id": "d39c782c",
   "metadata": {},
   "source": [
    "## Approach"
   ]
  },
  {
   "cell_type": "markdown",
   "id": "478cba55",
   "metadata": {},
   "source": [
    "We used a logistic approach as it was a classification problem. We chose to optimize for recall rather than precision or accuracy. This was due to the context of our problem. In our opinion, it is better for our model to cause a false alarm (i.e. predict a fire when none occurs) than fail to predict a fire when one actually occurs. In the latter case, people would be completely blindsided by the fire and the damage done would be much worse. When optimizing our model using forward and backward stepwise selection, we picked the model with the lowest AIC as opposed to BIC. This is because we wanted our model to be less conservative for the reasons mentioned above.\n",
    "\n",
    "There is nothing uniquely unorthodox or new in our approach. One major problem we anticipated was collinearity between our predictors. As mentioned above, a lot of our predictors (especially the FWI indexes) are derived from the same \"base\" climate variables (temperature, rain, humidity, etc...). As such, we anticpated and experienced severe collinearity between our predictors. Our initial thought was to perform a VIF test (seen below) and select variables where the VIF test was below 5. This ended up changing for reasons that will be explained in the \"Developing the Model\" section.\n",
    "\n",
    "Our code did already have some solutions on GitHub, but they were mostly using different model building than methods than we learned in class. As most used a combination of different methods, they ended up being slightly better than our model. However, our model is the only model that I found that can hit 100% Recall consistently."
   ]
  },
  {
   "cell_type": "markdown",
   "id": "acab331a",
   "metadata": {},
   "source": [
    "## Developing the model"
   ]
  },
  {
   "cell_type": "markdown",
   "id": "cec1254d",
   "metadata": {},
   "source": [
    "Our base model initially did not consist of all the predictors. As mentioned earlier, many of our variables were strongly correlated. The logit model, which uses a Hessian Matrix for optimization by default, would throw an error. As such, our base model consisted of the following variables: Temperature, RH, Ws, Rain, and FFMC. These variables had a VIF score of less than 5. It was quite accurate when it came to the training data and fairly accurate when it came to the test data. You can see the confusion matrix in the code document labeled as **Figure 1**. "
   ]
  },
  {
   "cell_type": "markdown",
   "id": "0245b9ea",
   "metadata": {},
   "source": [
    "Eventually, we were able to get all of the variables work in a basic logit model by changing the optimization method from the Hessian Matrix to the Broyden–Fletcher–Goldfarb–Shanno algorithm. This consisted of nothing more than adding method = 'bgfs' to the logit model. The results were not significantly different from the VIF tested model. \n",
    "\n",
    "What was most concerning was the 5 false negatives. Even though the precision and accuracy were both fairly high, our goal was to maximize recall at whatever cost. First, we checked to see if any transformations were necessary. We binned each of the variables and tried to identify any potential non-linear trends. There didn't seem to be any, and when we tested quadratic and cubic terms it hurt the model significantly. The plots of the binned variables vs the percentages of fires can be seen in the code notebook. \n",
    "\n",
    "Our main technique was performing forward stepwise selection to find the best possible subsets of predictors and interactions. First, we performed a basic forward stepwise selection. As mentioned above, we chose the model with the lowest AIC because we wanted the model to be more aggressive. That returned a subset of six predictors, which can be seen in the code notebook. It excelled on the training data (100% recall) and did very well on the test data (97.4%) recall. Still, we felt like we could do better\n",
    "\n",
    "Next, we performed forward stepwise selection to find the best possible subset of all potential degree two interaction terms. That returned a model of 35 predictors. This can also be seen in the code notebook. This performed better on the training data (100% recall) but slightly worse on the test data (92.3% recall). We felt that this was indicative of overfitting. \n",
    "\n",
    "Our third and our most successful approach was performing forward stepwise selection on all possible interactions derived from the subset of predictors returned by our basic forward stepwise selection (those 6 predictors mentioned two paragraphs ago). This was the most successful model and returned a model with 13 predictors. The best subset plots can be seen in the code document labeled as **Figure 2**"
   ]
  },
  {
   "cell_type": "markdown",
   "id": "9a83ba78",
   "metadata": {},
   "source": [
    "This model performed very well on the train data and pretty well on the test data. The confusion matrix can be seen in the code document labeled as **Figure 3**"
   ]
  },
  {
   "cell_type": "markdown",
   "id": "4b681498",
   "metadata": {},
   "source": [
    "At this point, we felt our work was sufficient. Our model had hit 100% recall which was the major goal. Even though accuracy and precision were worse than the base model, we optimized the most important metric. We did end up testing a few more ideas, including degree three, four, and five interactions but those ended up being significantly worse. The results of the degree four interaction stepwise selection can be seen in the code notebook. I believe we achieved our goal\n",
    "\n",
    "Our final model equation is: <br>\n",
    "Classes = FFMC + FWI*RH + BUI*Ws + FWI*Rain + RH + FFMC*RH + FFMC*FWI + FWI + FFMC*Ws + BUI + RH*Ws + FFMC*BUI + RH*BUI"
   ]
  },
  {
   "cell_type": "markdown",
   "id": "1b46343d",
   "metadata": {},
   "source": [
    "## Limitations of the model with regard to inference / prediction (Abenezer)"
   ]
  },
  {
   "cell_type": "markdown",
   "id": "c85ead90",
   "metadata": {},
   "source": [
    "If it is inference, will the inference hold for a certain period of time, for a certain subset of population, and / or for certain conditions.\n",
    "\n",
    "If it is prediction, then will it be possible / convenient / expensive for the stakeholders to collect the data relating to the predictors in the model. Using your model, how soon will the stakeholder be able to predict the outcome before the outcome occurs. For example, if the model predicts the number of bikes people will rent in Evanston on a certain day, then how many days before that day will your model be able to make the prediction. This will depend on how soon the data that your model uses becomes available. If you are predicting election results, how many days / weeks / months / years before the election can you predict the results. \n",
    "\n",
    "When will your model become too obsolete to be useful?"
   ]
  },
  {
   "cell_type": "markdown",
   "id": "62a185cb",
   "metadata": {},
   "source": [
    "## Conclusions and Recommendations to stakeholder(s)\n",
    "\n",
    "It is somewhat difficult to outline policy-based recommendations for stakeholders. The purpose of this model was simply to serve as a tool for predicting wildfires. One key takeaway is that a combination of climate variables are relevant to whether or not a fire occurs, not single variables. In our model, we used many interaction terms between different climate variables. Additionally, we found that temperature not as significant as rain (or rather the lack thereof) and relative humidity in determining whether or not there will be a fire. Finally, time variables (such as day, month, and year) are not very important for predicting fires. When we tested adding them into the model, it significantly reduced our recall and thus we left them out. We would recommend that stakeholders optimize the collection of climate variables to ensure that predictive models such as ours can be as accurate as possible. "
   ]
  },
  {
   "cell_type": "markdown",
   "id": "9c44497c",
   "metadata": {},
   "source": [
    "## GitHub and individual contribution {-}"
   ]
  },
  {
   "cell_type": "markdown",
   "id": "c98b3f66",
   "metadata": {},
   "source": [
    "Link: https://github.com/ArushIyer12/303-2Project"
   ]
  },
  {
   "cell_type": "markdown",
   "id": "5505da5c",
   "metadata": {},
   "source": [
    "<html>\n",
    "<style>\n",
    "table, td, th {\n",
    "  border: 1px solid black;\n",
    "}\n",
    "\n",
    "table {\n",
    "  border-collapse: collapse;\n",
    "  width: 100%;\n",
    "}\n",
    "\n",
    "th {\n",
    "  text-align: left;\n",
    "}\n",
    "    \n",
    "\n",
    "</style>\n",
    "<body>\n",
    "\n",
    "<h2>Individual contribution</h2>\n",
    "\n",
    "<table style=\"width:100%\">\n",
    "     <colgroup>\n",
    "       <col span=\"1\" style=\"width: 15%;\">\n",
    "       <col span=\"1\" style=\"width: 20%;\">\n",
    "       <col span=\"1\" style=\"width: 50%;\">\n",
    "       <col span=\"1\" style=\"width: 15%;\"> \n",
    "    </colgroup>\n",
    "  <tr>\n",
    "    <th>Team member</th>\n",
    "    <th>Contributed aspects</th>\n",
    "    <th>Details</th>\n",
    "    <th>Number of GitHub commits</th>\n",
    "  </tr>\n",
    "  <tr>\n",
    "    <td>Abby Burt</td>\n",
    "    <td>Data cleaning and EDA</td>\n",
    "    <td>I cleaned and processed all of the data to prepare it for the model buildind, EDA, and analysis. Also visualized the distributions of all the variables of the starting set and simple variable interactions. </td>\n",
    "    <td>11</td>\n",
    "  </tr>\n",
    "  <tr>\n",
    "    <td>Mel Megala</td>\n",
    "    <td>EDA</td>\n",
    "    <td>Insert</td>\n",
    "    <td>Insert</td>\n",
    "  </tr>\n",
    "    <tr>\n",
    "    <td>Arush Iyer</td>\n",
    "    <td>Model building and variable selection</td>\n",
    "    <td>Performed variable selection on predictors to address multicollinearity and overfitting. Created and tested model interactions and developed the final model.</td>\n",
    "    <td>12</td>    \n",
    "  </tr>\n",
    "    <tr>\n",
    "    <td>Abenezer Bekele</td>\n",
    "    <td>Model analysis</td>\n",
    "    <td>Insert</td>\n",
    "    <td>Insert</td>    \n",
    "  </tr>\n",
    "</table>"
   ]
  },
  {
   "cell_type": "markdown",
   "id": "192bbd23",
   "metadata": {},
   "source": [
    "List the **challenges** you faced when collaborating with the team on GitHub. Are you comfortable using GitHub? \n",
    "Do you feel GitHuB made collaboration easier? If not, then why? *(Individual team members can put their opinion separately, if different from the rest of the team)*"
   ]
  },
  {
   "cell_type": "markdown",
   "id": "00b1cafe",
   "metadata": {},
   "source": [
    "## References {-}"
   ]
  },
  {
   "cell_type": "markdown",
   "id": "ebdb1aad",
   "metadata": {},
   "source": [
    "List and number all bibliographical references. When referenced in the text, enclose the citation number in square brackets, for example [1].\n",
    "\n",
    "[1] Authors. The frobnicatable foo filter, 2014. Face and Gesture submission ID 324. Supplied as additional material\n",
    "fg324.pdf. 3\n"
   ]
  }
 ],
 "metadata": {
  "kernelspec": {
   "display_name": "Python 3 (ipykernel)",
   "language": "python",
   "name": "python3"
  },
  "language_info": {
   "codemirror_mode": {
    "name": "ipython",
    "version": 3
   },
   "file_extension": ".py",
   "mimetype": "text/x-python",
   "name": "python",
   "nbconvert_exporter": "python",
   "pygments_lexer": "ipython3",
   "version": "3.9.12"
  }
 },
 "nbformat": 4,
 "nbformat_minor": 5
}
