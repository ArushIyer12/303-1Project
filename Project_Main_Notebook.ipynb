{
 "cells": [
  {
   "cell_type": "markdown",
   "id": "bf05ff81",
   "metadata": {},
   "source": [
    "# Data Cleaning (Abby)"
   ]
  },
  {
   "cell_type": "markdown",
   "id": "5f7a4beb",
   "metadata": {},
   "source": [
    "- Dropping missing vals X\n",
    "- Converting fire/no fire to 0 and 1\n",
    "- Converting columns to appropriate data types X\n",
    "- Converting region to 1 or 2? X\n",
    "- Creating test and training data sets"
   ]
  },
  {
   "cell_type": "code",
   "execution_count": 133,
   "id": "fc4e8410",
   "metadata": {},
   "outputs": [],
   "source": [
    "import pandas as pd\n",
    "import numpy as np\n",
    "import statsmodels.formula.api as smf\n",
    "import statsmodels.api as sm\n",
    "import seaborn as sns\n",
    "import matplotlib.pyplot as plt\n",
    "import scipy.stats as st\n",
    "import warnings\n",
    "warnings.filterwarnings('ignore')\n",
    "\n",
    "data = pd.read_csv('Algerian_forest_fires_dataset_UPDATE.csv',header=1)\n",
    "\n",
    "df = data.copy()\n",
    "#dropping missing vals\n",
    "df.dropna(inplace=True)\n",
    "\n",
    "# dropping a row that was just for labelling\n",
    "df = df.drop(index=123,axis=0)\n",
    "\n",
    "# fixing index \n",
    "df.reset_index(inplace=True)"
   ]
  },
  {
   "cell_type": "code",
   "execution_count": 134,
   "id": "6514fd85",
   "metadata": {},
   "outputs": [
    {
     "data": {
      "text/plain": [
       "Index(['index', 'day', 'month', 'year', 'Temperature', ' RH', ' Ws', 'Rain ',\n",
       "       'FFMC', 'DMC', 'DC', 'ISI', 'BUI', 'FWI', 'Classes  ', 'Region'],\n",
       "      dtype='object')"
      ]
     },
     "execution_count": 134,
     "metadata": {},
     "output_type": "execute_result"
    }
   ],
   "source": [
    "# region 1 and 2\n",
    "# Region 1 is Bejaia and Region 2 is Sidi Bel-Abbes \n",
    "df.loc[:122,'Region']=1\n",
    "df.loc[122:,'Region']=2\n",
    "df[['Region']] = df[['Region']].astype(int)\n",
    "df.columns"
   ]
  },
  {
   "cell_type": "code",
   "execution_count": 135,
   "id": "188ec584",
   "metadata": {},
   "outputs": [
    {
     "data": {
      "text/plain": [
       "Index(['index', 'day', 'month', 'year', 'Temperature', 'RH', 'Ws', 'Rain',\n",
       "       'FFMC', 'DMC', 'DC', 'ISI', 'BUI', 'FWI', 'Classes', 'Region'],\n",
       "      dtype='object')"
      ]
     },
     "execution_count": 135,
     "metadata": {},
     "output_type": "execute_result"
    }
   ],
   "source": [
    "# getting rid of column names weird spacing\n",
    "df.columns=df.columns.str.strip()\n",
    "df.columns"
   ]
  },
  {
   "cell_type": "code",
   "execution_count": 144,
   "id": "55bb3166",
   "metadata": {},
   "outputs": [
    {
     "name": "stdout",
     "output_type": "stream",
     "text": [
      "['not fire   ' 'fire   ' 1 'fire ' 0 'not fire ' 'not fire     '\n",
      " 'not fire    ']\n"
     ]
    }
   ],
   "source": [
    "df['Classes'] = df['Classes'].replace('not fire   ', 0)\n",
    "df['Classes'] = df['Classes'].replace('not fire ', 0)\n",
    "df['Classes'] = df['Classes'].replace('not fire     ', 0)\n",
    "df['Classes'] = df['Classes'].replace('not fire    ', 0)\n",
    "df['Classes'] = df['Classes'].replace('fire   ', 1)\n",
    "print(df['Classes'].unique())"
   ]
  },
  {
   "cell_type": "code",
   "execution_count": 141,
   "id": "f0af0733",
   "metadata": {},
   "outputs": [
    {
     "data": {
      "text/plain": [
       "index            int64\n",
       "day              int64\n",
       "month            int64\n",
       "year             int64\n",
       "Temperature      int64\n",
       "RH               int64\n",
       "Ws               int64\n",
       "Rain           float64\n",
       "FFMC           float64\n",
       "DMC            float64\n",
       "DC             float64\n",
       "ISI            float64\n",
       "BUI            float64\n",
       "FWI            float64\n",
       "Classes         object\n",
       "Region           int64\n",
       "dtype: object"
      ]
     },
     "execution_count": 141,
     "metadata": {},
     "output_type": "execute_result"
    }
   ],
   "source": [
    "# converting column data types\n",
    "df['DC']=df['DC'].astype('float')\n",
    "df['ISI']=df['ISI'].astype('float')\n",
    "df['BUI']=df['BUI'].astype('float')\n",
    "df['FWI']=df['FWI'].astype('float')\n",
    "df['day']=df['day'].astype('int')\n",
    "df['month']=df['month'].astype('int')\n",
    "df['year']=df['year'].astype('int')\n",
    "df['Temperature']=df['Temperature'].astype('int')\n",
    "df['RH']=df['RH'].astype('int')\n",
    "df['Ws']=df['Ws'].astype('int')\n",
    "df['Rain']=df['Rain'].astype('float')\n",
    "df['FFMC']=df['FFMC'].astype('float')\n",
    "df['DMC']=df['DMC'].astype('float')\n",
    "df.dtypes"
   ]
  },
  {
   "cell_type": "code",
   "execution_count": 124,
   "id": "afaa7f40",
   "metadata": {},
   "outputs": [
    {
     "data": {
      "text/plain": [
       "index          0\n",
       "day            0\n",
       "month          0\n",
       "year           0\n",
       "Temperature    0\n",
       "RH             0\n",
       "Ws             0\n",
       "Rain           0\n",
       "FFMC           0\n",
       "DMC            0\n",
       "DC             0\n",
       "ISI            0\n",
       "BUI            0\n",
       "FWI            0\n",
       "Classes        0\n",
       "Region         0\n",
       "dtype: int64"
      ]
     },
     "execution_count": 124,
     "metadata": {},
     "output_type": "execute_result"
    }
   ],
   "source": [
    "# No null values :)\n",
    "df.isnull().sum()"
   ]
  },
  {
   "cell_type": "code",
   "execution_count": 116,
   "id": "06ae23d8",
   "metadata": {},
   "outputs": [
    {
     "data": {
      "text/plain": [
       "0"
      ]
     },
     "execution_count": 116,
     "metadata": {},
     "output_type": "execute_result"
    }
   ],
   "source": [
    "# No duplicates :)\n",
    "df.duplicated().sum()"
   ]
  },
  {
   "cell_type": "markdown",
   "id": "0bf726f3",
   "metadata": {},
   "source": [
    "# Exploratory Data Analysis (Mel, Abby)"
   ]
  },
  {
   "cell_type": "markdown",
   "id": "d5434b27",
   "metadata": {},
   "source": [
    "- heatmaps\n",
    "- pairplots\n",
    "- pie chart/barplot of fire vs no fire breakdown\n",
    "- density plots of different vars\n",
    "- (other stuff)"
   ]
  },
  {
   "cell_type": "markdown",
   "id": "2abfa90d",
   "metadata": {},
   "source": [
    "# Logistic Regression Model Building (Arush, Mel)"
   ]
  },
  {
   "cell_type": "markdown",
   "id": "353e7d8d",
   "metadata": {},
   "source": [
    "- VIF for collinearity\n",
    "- Use heatmaps/pairplots in EDA section\n",
    "- Variable Selection Algorithms\n",
    "- See if we need transformations by visualizing lineplots of response vs diff vairables\n",
    "- building/printing model summary"
   ]
  },
  {
   "cell_type": "markdown",
   "id": "4283f9e8",
   "metadata": {},
   "source": [
    "# Model Evaluation (Abenezer)"
   ]
  },
  {
   "cell_type": "markdown",
   "id": "de3d8aee",
   "metadata": {},
   "source": [
    "- ROC-AUC\n",
    "- Confusion Matrix\n",
    "- Precision, recall, that sort of thing\n",
    "- "
   ]
  }
 ],
 "metadata": {
  "kernelspec": {
   "display_name": "Python 3 (ipykernel)",
   "language": "python",
   "name": "python3"
  },
  "language_info": {
   "codemirror_mode": {
    "name": "ipython",
    "version": 3
   },
   "file_extension": ".py",
   "mimetype": "text/x-python",
   "name": "python",
   "nbconvert_exporter": "python",
   "pygments_lexer": "ipython3",
   "version": "3.9.13"
  }
 },
 "nbformat": 4,
 "nbformat_minor": 5
}
