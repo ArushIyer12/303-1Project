{
 "cells": [
  {
   "cell_type": "markdown",
   "id": "bf05ff81",
   "metadata": {},
   "source": [
    "# Data Cleaning (Abby)"
   ]
  },
  {
   "cell_type": "markdown",
   "id": "5f7a4beb",
   "metadata": {},
   "source": [
    "- Dropping missing vals\n",
    "- Converting fire/no fire to 0 and 1\n",
    "- Converting columns to appropriate data types\n",
    "- Converting region to 1 or 2?\n",
    "- Creating test and training data sets"
   ]
  },
  {
   "cell_type": "markdown",
   "id": "0bf726f3",
   "metadata": {},
   "source": [
    "# Exploratory Data Analysis (Mel, Abby)"
   ]
  },
  {
   "cell_type": "markdown",
   "id": "d5434b27",
   "metadata": {},
   "source": [
    "- heatmaps\n",
    "- pairplots\n",
    "- pie chart/barplot of fire vs no fire breakdown\n",
    "- density plots of different vars\n",
    "- (other stuff)"
   ]
  },
  {
   "cell_type": "markdown",
   "id": "2abfa90d",
   "metadata": {},
   "source": [
    "# Logistic Regression Model Building (Arush, Mel)"
   ]
  },
  {
   "cell_type": "markdown",
   "id": "353e7d8d",
   "metadata": {},
   "source": [
    "- VIF for collinearity\n",
    "- Use heatmaps/pairplots in EDA section\n",
    "- Variable Selection Algorithms\n",
    "- See if we need transformations by visualizing lineplots of response vs diff vairables\n",
    "- building/printing model summary"
   ]
  },
  {
   "cell_type": "markdown",
   "id": "4283f9e8",
   "metadata": {},
   "source": [
    "# Model Evaluation (Abenezer)"
   ]
  },
  {
   "cell_type": "markdown",
   "id": "de3d8aee",
   "metadata": {},
   "source": [
    "- ROC-AUC\n",
    "- Confusion Matrix\n",
    "- Precision, recall, that sort of thing\n",
    "- "
   ]
  }
 ],
 "metadata": {
  "kernelspec": {
   "display_name": "Python 3 (ipykernel)",
   "language": "python",
   "name": "python3"
  },
  "language_info": {
   "codemirror_mode": {
    "name": "ipython",
    "version": 3
   },
   "file_extension": ".py",
   "mimetype": "text/x-python",
   "name": "python",
   "nbconvert_exporter": "python",
   "pygments_lexer": "ipython3",
   "version": "3.9.12"
  }
 },
 "nbformat": 4,
 "nbformat_minor": 5
}
