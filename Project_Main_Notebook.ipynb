{
 "cells": [
  {
   "cell_type": "markdown",
   "id": "bf05ff81",
   "metadata": {},
   "source": [
    "# Data Cleaning (Abby)"
   ]
  },
  {
   "cell_type": "markdown",
   "id": "5f7a4beb",
   "metadata": {},
   "source": [
    "- X Dropping missing vals \n",
    "- X Converting fire/no fire to 0 and 1 \n",
    "- X Converting columns to appropriate data types \n",
    "- X Converting region to 1 or 2? \n",
    "- XCreating test and training data sets"
   ]
  },
  {
   "cell_type": "code",
   "execution_count": 1,
   "id": "fc4e8410",
   "metadata": {},
   "outputs": [],
   "source": [
    "import pandas as pd\n",
    "import numpy as np\n",
    "import statsmodels.formula.api as smf\n",
    "import statsmodels.api as sm\n",
    "import seaborn as sns\n",
    "import matplotlib.pyplot as plt\n",
    "import scipy.stats as st\n",
    "import sklearn\n",
    "import warnings\n",
    "warnings.filterwarnings('ignore')\n",
    "\n",
    "data = pd.read_csv('Algerian_forest_fires_dataset_UPDATE.csv',header=1)\n",
    "\n",
    "df = data.copy()\n",
    "#dropping missing vals\n",
    "df.dropna(inplace=True)\n",
    "\n",
    "# dropping a row that was just for labelling\n",
    "df = df.drop(index=123,axis=0)\n",
    "\n",
    "# fixing index \n",
    "df.reset_index(inplace=True)"
   ]
  },
  {
   "cell_type": "code",
   "execution_count": 2,
   "id": "44d546d0",
   "metadata": {},
   "outputs": [
    {
     "data": {
      "text/plain": [
       "Index(['index', 'day', 'month', 'year', 'Temperature', ' RH', ' Ws', 'Rain ',\n",
       "       'FFMC', 'DMC', 'DC', 'ISI', 'BUI', 'FWI', 'Classes  ', 'Region'],\n",
       "      dtype='object')"
      ]
     },
     "execution_count": 2,
     "metadata": {},
     "output_type": "execute_result"
    }
   ],
   "source": [
    "# Region 1 and 2\n",
    "# Region 1 is Bejaia and Region 2 is Sidi Bel-Abbes \n",
    "df.loc[:122,'Region']=1\n",
    "df.loc[122:,'Region']=2\n",
    "df[['Region']] = df[['Region']].astype(int)\n",
    "df.columns"
   ]
  },
  {
   "cell_type": "code",
   "execution_count": 3,
   "id": "413af9aa",
   "metadata": {},
   "outputs": [
    {
     "data": {
      "text/plain": [
       "Index(['index', 'day', 'month', 'year', 'Temperature', 'RH', 'Ws', 'Rain',\n",
       "       'FFMC', 'DMC', 'DC', 'ISI', 'BUI', 'FWI', 'Classes', 'Region'],\n",
       "      dtype='object')"
      ]
     },
     "execution_count": 3,
     "metadata": {},
     "output_type": "execute_result"
    }
   ],
   "source": [
    "# getting rid of column names weird spacing\n",
    "df.columns=df.columns.str.strip()\n",
    "df.columns"
   ]
  },
  {
   "cell_type": "code",
   "execution_count": 4,
   "id": "d0f1afb7",
   "metadata": {},
   "outputs": [
    {
     "name": "stdout",
     "output_type": "stream",
     "text": [
      "['not fire   ' 'fire   ' 'fire' 'fire ' 'not fire' 'not fire '\n",
      " 'not fire     ' 'not fire    ']\n"
     ]
    }
   ],
   "source": [
    "#Converting Not fire/Fire (with unnecessary spacing) to 0 and 1\n",
    "print(df['Classes'].unique())"
   ]
  },
  {
   "cell_type": "code",
   "execution_count": 5,
   "id": "16b0a7ef",
   "metadata": {},
   "outputs": [
    {
     "data": {
      "text/plain": [
       "array(['not fire', 'fire'], dtype=object)"
      ]
     },
     "execution_count": 5,
     "metadata": {},
     "output_type": "execute_result"
    }
   ],
   "source": [
    "df.Classes=df.Classes.str.strip()\n",
    "df.Classes.unique()"
   ]
  },
  {
   "cell_type": "code",
   "execution_count": 6,
   "id": "91b82f8f",
   "metadata": {},
   "outputs": [
    {
     "data": {
      "text/plain": [
       "array([0, 1])"
      ]
     },
     "execution_count": 6,
     "metadata": {},
     "output_type": "execute_result"
    }
   ],
   "source": [
    "df['Classes'] = df['Classes'].replace('not fire', 0)\n",
    "df['Classes'] = df['Classes'].replace('fire', 1)\n",
    "df.Classes.unique()"
   ]
  },
  {
   "cell_type": "code",
   "execution_count": 7,
   "id": "7d161f87",
   "metadata": {},
   "outputs": [
    {
     "data": {
      "text/html": [
       "<div>\n",
       "<style scoped>\n",
       "    .dataframe tbody tr th:only-of-type {\n",
       "        vertical-align: middle;\n",
       "    }\n",
       "\n",
       "    .dataframe tbody tr th {\n",
       "        vertical-align: top;\n",
       "    }\n",
       "\n",
       "    .dataframe thead th {\n",
       "        text-align: right;\n",
       "    }\n",
       "</style>\n",
       "<table border=\"1\" class=\"dataframe\">\n",
       "  <thead>\n",
       "    <tr style=\"text-align: right;\">\n",
       "      <th></th>\n",
       "      <th>index</th>\n",
       "      <th>day</th>\n",
       "      <th>month</th>\n",
       "      <th>year</th>\n",
       "      <th>Temperature</th>\n",
       "      <th>RH</th>\n",
       "      <th>Ws</th>\n",
       "      <th>Rain</th>\n",
       "      <th>FFMC</th>\n",
       "      <th>DMC</th>\n",
       "      <th>DC</th>\n",
       "      <th>ISI</th>\n",
       "      <th>BUI</th>\n",
       "      <th>FWI</th>\n",
       "      <th>Classes</th>\n",
       "      <th>Region</th>\n",
       "    </tr>\n",
       "  </thead>\n",
       "  <tbody>\n",
       "    <tr>\n",
       "      <th>0</th>\n",
       "      <td>0</td>\n",
       "      <td>1</td>\n",
       "      <td>6</td>\n",
       "      <td>2012</td>\n",
       "      <td>29</td>\n",
       "      <td>57</td>\n",
       "      <td>18</td>\n",
       "      <td>0.0</td>\n",
       "      <td>65.7</td>\n",
       "      <td>3.4</td>\n",
       "      <td>7.6</td>\n",
       "      <td>1.3</td>\n",
       "      <td>3.4</td>\n",
       "      <td>0.5</td>\n",
       "      <td>0</td>\n",
       "      <td>1</td>\n",
       "    </tr>\n",
       "    <tr>\n",
       "      <th>1</th>\n",
       "      <td>1</td>\n",
       "      <td>2</td>\n",
       "      <td>6</td>\n",
       "      <td>2012</td>\n",
       "      <td>29</td>\n",
       "      <td>61</td>\n",
       "      <td>13</td>\n",
       "      <td>1.3</td>\n",
       "      <td>64.4</td>\n",
       "      <td>4.1</td>\n",
       "      <td>7.6</td>\n",
       "      <td>1.0</td>\n",
       "      <td>3.9</td>\n",
       "      <td>0.4</td>\n",
       "      <td>0</td>\n",
       "      <td>1</td>\n",
       "    </tr>\n",
       "    <tr>\n",
       "      <th>2</th>\n",
       "      <td>2</td>\n",
       "      <td>3</td>\n",
       "      <td>6</td>\n",
       "      <td>2012</td>\n",
       "      <td>26</td>\n",
       "      <td>82</td>\n",
       "      <td>22</td>\n",
       "      <td>13.1</td>\n",
       "      <td>47.1</td>\n",
       "      <td>2.5</td>\n",
       "      <td>7.1</td>\n",
       "      <td>0.3</td>\n",
       "      <td>2.7</td>\n",
       "      <td>0.1</td>\n",
       "      <td>0</td>\n",
       "      <td>1</td>\n",
       "    </tr>\n",
       "    <tr>\n",
       "      <th>3</th>\n",
       "      <td>3</td>\n",
       "      <td>4</td>\n",
       "      <td>6</td>\n",
       "      <td>2012</td>\n",
       "      <td>25</td>\n",
       "      <td>89</td>\n",
       "      <td>13</td>\n",
       "      <td>2.5</td>\n",
       "      <td>28.6</td>\n",
       "      <td>1.3</td>\n",
       "      <td>6.9</td>\n",
       "      <td>0.0</td>\n",
       "      <td>1.7</td>\n",
       "      <td>0.0</td>\n",
       "      <td>0</td>\n",
       "      <td>1</td>\n",
       "    </tr>\n",
       "    <tr>\n",
       "      <th>4</th>\n",
       "      <td>4</td>\n",
       "      <td>5</td>\n",
       "      <td>6</td>\n",
       "      <td>2012</td>\n",
       "      <td>27</td>\n",
       "      <td>77</td>\n",
       "      <td>16</td>\n",
       "      <td>0.0</td>\n",
       "      <td>64.8</td>\n",
       "      <td>3.0</td>\n",
       "      <td>14.2</td>\n",
       "      <td>1.2</td>\n",
       "      <td>3.9</td>\n",
       "      <td>0.5</td>\n",
       "      <td>0</td>\n",
       "      <td>1</td>\n",
       "    </tr>\n",
       "    <tr>\n",
       "      <th>...</th>\n",
       "      <td>...</td>\n",
       "      <td>...</td>\n",
       "      <td>...</td>\n",
       "      <td>...</td>\n",
       "      <td>...</td>\n",
       "      <td>...</td>\n",
       "      <td>...</td>\n",
       "      <td>...</td>\n",
       "      <td>...</td>\n",
       "      <td>...</td>\n",
       "      <td>...</td>\n",
       "      <td>...</td>\n",
       "      <td>...</td>\n",
       "      <td>...</td>\n",
       "      <td>...</td>\n",
       "      <td>...</td>\n",
       "    </tr>\n",
       "    <tr>\n",
       "      <th>238</th>\n",
       "      <td>241</td>\n",
       "      <td>26</td>\n",
       "      <td>9</td>\n",
       "      <td>2012</td>\n",
       "      <td>30</td>\n",
       "      <td>65</td>\n",
       "      <td>14</td>\n",
       "      <td>0.0</td>\n",
       "      <td>85.4</td>\n",
       "      <td>16.0</td>\n",
       "      <td>44.5</td>\n",
       "      <td>4.5</td>\n",
       "      <td>16.9</td>\n",
       "      <td>6.5</td>\n",
       "      <td>1</td>\n",
       "      <td>2</td>\n",
       "    </tr>\n",
       "    <tr>\n",
       "      <th>239</th>\n",
       "      <td>242</td>\n",
       "      <td>27</td>\n",
       "      <td>9</td>\n",
       "      <td>2012</td>\n",
       "      <td>28</td>\n",
       "      <td>87</td>\n",
       "      <td>15</td>\n",
       "      <td>4.4</td>\n",
       "      <td>41.1</td>\n",
       "      <td>6.5</td>\n",
       "      <td>8.0</td>\n",
       "      <td>0.1</td>\n",
       "      <td>6.2</td>\n",
       "      <td>0.0</td>\n",
       "      <td>0</td>\n",
       "      <td>2</td>\n",
       "    </tr>\n",
       "    <tr>\n",
       "      <th>240</th>\n",
       "      <td>243</td>\n",
       "      <td>28</td>\n",
       "      <td>9</td>\n",
       "      <td>2012</td>\n",
       "      <td>27</td>\n",
       "      <td>87</td>\n",
       "      <td>29</td>\n",
       "      <td>0.5</td>\n",
       "      <td>45.9</td>\n",
       "      <td>3.5</td>\n",
       "      <td>7.9</td>\n",
       "      <td>0.4</td>\n",
       "      <td>3.4</td>\n",
       "      <td>0.2</td>\n",
       "      <td>0</td>\n",
       "      <td>2</td>\n",
       "    </tr>\n",
       "    <tr>\n",
       "      <th>241</th>\n",
       "      <td>244</td>\n",
       "      <td>29</td>\n",
       "      <td>9</td>\n",
       "      <td>2012</td>\n",
       "      <td>24</td>\n",
       "      <td>54</td>\n",
       "      <td>18</td>\n",
       "      <td>0.1</td>\n",
       "      <td>79.7</td>\n",
       "      <td>4.3</td>\n",
       "      <td>15.2</td>\n",
       "      <td>1.7</td>\n",
       "      <td>5.1</td>\n",
       "      <td>0.7</td>\n",
       "      <td>0</td>\n",
       "      <td>2</td>\n",
       "    </tr>\n",
       "    <tr>\n",
       "      <th>242</th>\n",
       "      <td>245</td>\n",
       "      <td>30</td>\n",
       "      <td>9</td>\n",
       "      <td>2012</td>\n",
       "      <td>24</td>\n",
       "      <td>64</td>\n",
       "      <td>15</td>\n",
       "      <td>0.2</td>\n",
       "      <td>67.3</td>\n",
       "      <td>3.8</td>\n",
       "      <td>16.5</td>\n",
       "      <td>1.2</td>\n",
       "      <td>4.8</td>\n",
       "      <td>0.5</td>\n",
       "      <td>0</td>\n",
       "      <td>2</td>\n",
       "    </tr>\n",
       "  </tbody>\n",
       "</table>\n",
       "<p>243 rows × 16 columns</p>\n",
       "</div>"
      ],
      "text/plain": [
       "     index  day  month  year  Temperature  RH  Ws  Rain  FFMC   DMC    DC  \\\n",
       "0        0    1      6  2012           29  57  18   0.0  65.7   3.4   7.6   \n",
       "1        1    2      6  2012           29  61  13   1.3  64.4   4.1   7.6   \n",
       "2        2    3      6  2012           26  82  22  13.1  47.1   2.5   7.1   \n",
       "3        3    4      6  2012           25  89  13   2.5  28.6   1.3   6.9   \n",
       "4        4    5      6  2012           27  77  16   0.0  64.8   3.0  14.2   \n",
       "..     ...  ...    ...   ...          ...  ..  ..   ...   ...   ...   ...   \n",
       "238    241   26      9  2012           30  65  14   0.0  85.4  16.0  44.5   \n",
       "239    242   27      9  2012           28  87  15   4.4  41.1   6.5   8.0   \n",
       "240    243   28      9  2012           27  87  29   0.5  45.9   3.5   7.9   \n",
       "241    244   29      9  2012           24  54  18   0.1  79.7   4.3  15.2   \n",
       "242    245   30      9  2012           24  64  15   0.2  67.3   3.8  16.5   \n",
       "\n",
       "     ISI   BUI  FWI  Classes  Region  \n",
       "0    1.3   3.4  0.5        0       1  \n",
       "1    1.0   3.9  0.4        0       1  \n",
       "2    0.3   2.7  0.1        0       1  \n",
       "3    0.0   1.7  0.0        0       1  \n",
       "4    1.2   3.9  0.5        0       1  \n",
       "..   ...   ...  ...      ...     ...  \n",
       "238  4.5  16.9  6.5        1       2  \n",
       "239  0.1   6.2  0.0        0       2  \n",
       "240  0.4   3.4  0.2        0       2  \n",
       "241  1.7   5.1  0.7        0       2  \n",
       "242  1.2   4.8  0.5        0       2  \n",
       "\n",
       "[243 rows x 16 columns]"
      ]
     },
     "execution_count": 7,
     "metadata": {},
     "output_type": "execute_result"
    }
   ],
   "source": [
    "# converting column data types\n",
    "df['DC']=df['DC'].astype('float')\n",
    "df['ISI']=df['ISI'].astype('float')\n",
    "df['BUI']=df['BUI'].astype('float')\n",
    "df['FWI']=df['FWI'].astype('float')\n",
    "df['day']=df['day'].astype('int')\n",
    "df['month']=df['month'].astype('int')\n",
    "df['year']=df['year'].astype('int')\n",
    "df['Temperature']=df['Temperature'].astype('int')\n",
    "df['RH']=df['RH'].astype('int')\n",
    "df['Ws']=df['Ws'].astype('int')\n",
    "df['Rain']=df['Rain'].astype('float')\n",
    "df['FFMC']=df['FFMC'].astype('float')\n",
    "df['DMC']=df['DMC'].astype('float')\n",
    "df"
   ]
  },
  {
   "cell_type": "code",
   "execution_count": 8,
   "id": "a7e958de",
   "metadata": {},
   "outputs": [
    {
     "data": {
      "text/plain": [
       "index            int64\n",
       "day              int64\n",
       "month            int64\n",
       "year             int64\n",
       "Temperature      int64\n",
       "RH               int64\n",
       "Ws               int64\n",
       "Rain           float64\n",
       "FFMC           float64\n",
       "DMC            float64\n",
       "DC             float64\n",
       "ISI            float64\n",
       "BUI            float64\n",
       "FWI            float64\n",
       "Classes          int64\n",
       "Region           int64\n",
       "dtype: object"
      ]
     },
     "execution_count": 8,
     "metadata": {},
     "output_type": "execute_result"
    }
   ],
   "source": [
    "df.dtypes"
   ]
  },
  {
   "cell_type": "code",
   "execution_count": 9,
   "id": "e76597f5",
   "metadata": {},
   "outputs": [
    {
     "data": {
      "text/plain": [
       "index          0\n",
       "day            0\n",
       "month          0\n",
       "year           0\n",
       "Temperature    0\n",
       "RH             0\n",
       "Ws             0\n",
       "Rain           0\n",
       "FFMC           0\n",
       "DMC            0\n",
       "DC             0\n",
       "ISI            0\n",
       "BUI            0\n",
       "FWI            0\n",
       "Classes        0\n",
       "Region         0\n",
       "dtype: int64"
      ]
     },
     "execution_count": 9,
     "metadata": {},
     "output_type": "execute_result"
    }
   ],
   "source": [
    "# No null values :)\n",
    "df.isnull().sum()"
   ]
  },
  {
   "cell_type": "code",
   "execution_count": 10,
   "id": "6291eb2b",
   "metadata": {},
   "outputs": [
    {
     "data": {
      "text/plain": [
       "0"
      ]
     },
     "execution_count": 10,
     "metadata": {},
     "output_type": "execute_result"
    }
   ],
   "source": [
    "# No duplicates :)\n",
    "df.duplicated().sum()"
   ]
  },
  {
   "cell_type": "code",
   "execution_count": 11,
   "id": "f4175ce3",
   "metadata": {},
   "outputs": [],
   "source": [
    "from sklearn.model_selection import train_test_split\n",
    "\n",
    "#Creating training and test datasets\n",
    "np.random.seed(2)\n",
    "train = df.sample(round(df.shape[0]*0.7))\n",
    "test = df.drop(train.index)"
   ]
  },
  {
   "cell_type": "markdown",
   "id": "0bf726f3",
   "metadata": {},
   "source": [
    "# Exploratory Data Analysis (Mel, Abby)"
   ]
  },
  {
   "cell_type": "markdown",
   "id": "d5434b27",
   "metadata": {},
   "source": [
    "- heatmaps\n",
    "- pairplots\n",
    "- pie chart/barplot of fire vs no fire breakdown\n",
    "- density plots of different vars\n",
    "- (other stuff)"
   ]
  },
  {
   "cell_type": "markdown",
   "id": "2abfa90d",
   "metadata": {},
   "source": [
    "# Logistic Regression Model Building (Arush, Mel)"
   ]
  },
  {
   "cell_type": "markdown",
   "id": "353e7d8d",
   "metadata": {},
   "source": [
    "- VIF for collinearity\n",
    "- Use heatmaps/pairplots in EDA section\n",
    "- Variable Selection Algorithms\n",
    "- See if we need transformations by visualizing lineplots of response vs diff vairables\n",
    "- building/printing model summary"
   ]
  },
  {
   "cell_type": "code",
   "execution_count": 57,
   "id": "f3a9a4e0",
   "metadata": {},
   "outputs": [],
   "source": [
    "def confusion_matrix_data(data, actual_values, model, cutoff = 0.5):\n",
    "     \n",
    "    # predict the values\n",
    "    pred_values = model.predict(data) # these will be probabilities\n",
    "    \n",
    "    # Specify bins to do the cutoff thing\n",
    "    bins = np.array([0, cutoff, 1])\n",
    "    \n",
    "    # Confusion matrix\n",
    "    cm = np.histogram2d(actual_values, pred_values, bins = bins)[0]\n",
    "    \n",
    "    cm_df = pd.DataFrame(cm)\n",
    "    cm_df.columns = ['Predicted 0','Predicted 1']\n",
    "    cm_df = cm_df.rename(index={0: 'Actual 0',1:'Actual 1'})\n",
    "    \n",
    "    accuracy = (cm[0,0]+cm[1,1])/cm.sum()\n",
    "    \n",
    "    fnr = (cm[1,0])/(cm[1,0]+cm[1,1])\n",
    "    fpr = (cm[0,1])/(cm[0,0]+cm[0,1])\n",
    "    \n",
    "    precision = (cm[1,1])/(cm[1,1]+cm[0,1])\n",
    "    tpr = (cm[1,1])/(cm[1,0]+cm[1,1]) # Recall\n",
    "    \n",
    "    # fpr_roc, tpr_roc, auc_thresholds = roc_curve(actual_values, pred_values)\n",
    "    # auc_value = (auc(fpr_roc, tpr_roc))# AUC of ROC\n",
    "    sns.heatmap(cm_df, annot=True, cmap='Blues', fmt='g')\n",
    "    plt.ylabel(\"Actual Values\")\n",
    "    plt.xlabel(\"Predicted Values\")\n",
    "    print(\"Classification accuracy = {:.1%}\".format(accuracy))\n",
    "    print(\"Precision = {:.1%}\".format(precision))\n",
    "    print(\"TPR or Recall = {:.1%}\".format(tpr))\n",
    "    print(\"FNR = {:.1%}\".format(fnr))\n",
    "    print(\"FPR = {:.1%}\".format(fpr))\n",
    "    # print(\"ROC-AUC = {:.1%}\".format(auc_value))"
   ]
  },
  {
   "cell_type": "code",
   "execution_count": 58,
   "id": "aab2b6dd",
   "metadata": {},
   "outputs": [
    {
     "name": "stdout",
     "output_type": "stream",
     "text": [
      "        feature         VIF\n",
      "0           day    1.548816\n",
      "1         month    1.120089\n",
      "2          year  482.030547\n",
      "3   Temperature    2.347870\n",
      "4            RH    2.785183\n",
      "5            Ws    1.301353\n",
      "6          Rain    1.565911\n",
      "7          FFMC    4.986148\n",
      "8           DMC   66.721558\n",
      "9            DC   21.300967\n",
      "10          ISI   53.888193\n",
      "11          BUI  155.066601\n",
      "12          FWI   93.763546\n"
     ]
    }
   ],
   "source": [
    "# VIF test\n",
    "from statsmodels.stats.outliers_influence import variance_inflation_factor\n",
    "from statsmodels.tools.tools import add_constant\n",
    "\n",
    "X = train[['day', 'month', 'year', 'Temperature', 'RH', 'Ws', 'Rain', 'FFMC', 'DMC', 'DC','ISI', 'BUI', 'FWI']]\n",
    "\n",
    "X = add_constant(X)\n",
    "vif_data = pd.DataFrame()\n",
    "vif_data[\"feature\"] = X.columns\n",
    "\n",
    "for i in range(len(X.columns)):\n",
    "    vif_data.loc[i,'VIF'] = variance_inflation_factor(X.values, i)\n",
    "\n",
    "print(vif_data)"
   ]
  },
  {
   "cell_type": "code",
   "execution_count": 79,
   "id": "705ea395",
   "metadata": {},
   "outputs": [
    {
     "name": "stdout",
     "output_type": "stream",
     "text": [
      "Warning: Maximum number of iterations has been exceeded.\n",
      "         Current function value: 0.016382\n",
      "         Iterations: 35\n",
      "         Function evaluations: 39\n",
      "         Gradient evaluations: 39\n"
     ]
    }
   ],
   "source": [
    "logit_model = smf.logit(formula = 'Classes~Temperature+Rain+RH+FFMC+DMC+DC+ISI+BUI+FWI', data = train).fit(method='bfgs')"
   ]
  },
  {
   "cell_type": "code",
   "execution_count": 80,
   "id": "3f5771b7",
   "metadata": {},
   "outputs": [
    {
     "name": "stdout",
     "output_type": "stream",
     "text": [
      "                           Logit Regression Results                           \n",
      "==============================================================================\n",
      "Dep. Variable:                Classes   No. Observations:                  170\n",
      "Model:                          Logit   Df Residuals:                      160\n",
      "Method:                           MLE   Df Model:                            9\n",
      "Date:                Sun, 26 Feb 2023   Pseudo R-squ.:                  0.9760\n",
      "Time:                        17:41:09   Log-Likelihood:                -2.7849\n",
      "converged:                      False   LL-Null:                       -115.84\n",
      "Covariance Type:            nonrobust   LLR p-value:                 1.086e-43\n",
      "===============================================================================\n",
      "                  coef    std err          z      P>|z|      [0.025      0.975]\n",
      "-------------------------------------------------------------------------------\n",
      "Intercept      -3.4318   1306.509     -0.003      0.998   -2564.143    2557.279\n",
      "Temperature    -2.4943     14.913     -0.167      0.867     -31.722      26.734\n",
      "Rain            0.4132      5.897      0.070      0.944     -11.145      11.972\n",
      "RH             -0.2008      1.536     -0.131      0.896      -3.210       2.809\n",
      "FFMC            0.6335     21.507      0.029      0.977     -41.519      42.786\n",
      "DMC            -2.9571     35.911     -0.082      0.934     -73.340      67.426\n",
      "DC             -0.1762      7.460     -0.024      0.981     -14.797      14.445\n",
      "ISI            12.0612    400.572      0.030      0.976    -773.046     797.168\n",
      "BUI             0.9325     50.476      0.018      0.985     -97.999      99.865\n",
      "FWI            12.2309    101.999      0.120      0.905    -187.683     212.145\n",
      "===============================================================================\n",
      "\n",
      "Possibly complete quasi-separation: A fraction 0.92 of observations can be\n",
      "perfectly predicted. This might indicate that there is complete\n",
      "quasi-separation. In this case some parameters will not be identified.\n"
     ]
    }
   ],
   "source": [
    "print(logit_model.summary())"
   ]
  },
  {
   "cell_type": "code",
   "execution_count": 81,
   "id": "ed6ee3db",
   "metadata": {},
   "outputs": [
    {
     "name": "stdout",
     "output_type": "stream",
     "text": [
      "Classification accuracy = 99.4%\n",
      "Precision = 99.0%\n",
      "TPR or Recall = 100.0%\n",
      "FNR = 0.0%\n",
      "FPR = 1.4%\n"
     ]
    },
    {
     "data": {
      "image/png": "[encoded data removed]",
      "text/plain": [
       "<Figure size 432x288 with 2 Axes>"
      ]
     },
     "metadata": {
      "needs_background": "light"
     },
     "output_type": "display_data"
    }
   ],
   "source": [
    "confusion_matrix_data(train, train.Classes, logit_model, 0.3)"
   ]
  },
  {
   "cell_type": "code",
   "execution_count": 82,
   "id": "7c53695d",
   "metadata": {},
   "outputs": [
    {
     "name": "stdout",
     "output_type": "stream",
     "text": [
      "Classification accuracy = 95.9%\n",
      "Precision = 97.4%\n",
      "TPR or Recall = 94.9%\n",
      "FNR = 5.1%\n",
      "FPR = 2.9%\n"
     ]
    },
    {
     "data": {
      "image/png": "[encoded data removed]",
      "text/plain": [
       "<Figure size 432x288 with 2 Axes>"
      ]
     },
     "metadata": {
      "needs_background": "light"
     },
     "output_type": "display_data"
    }
   ],
   "source": [
    "confusion_matrix_data(test, test.Classes, logit_model, 0.3)"
   ]
  },
  {
   "cell_type": "markdown",
   "id": "4283f9e8",
   "metadata": {},
   "source": [
    "# Model Evaluation (Abenezer)"
   ]
  },
  {
   "cell_type": "markdown",
   "id": "de3d8aee",
   "metadata": {},
   "source": [
    "- ROC-AUC\n",
    "- Confusion Matrix\n",
    "- Precision, recall, that sort of thing\n",
    "- "
   ]
  }
 ],
 "metadata": {
  "kernelspec": {
   "display_name": "Python 3 (ipykernel)",
   "language": "python",
   "name": "python3"
  },
  "language_info": {
   "codemirror_mode": {
    "name": "ipython",
    "version": 3
   },
   "file_extension": ".py",
   "mimetype": "text/x-python",
   "name": "python",
   "nbconvert_exporter": "python",
   "pygments_lexer": "ipython3",
   "version": "3.9.12"
  }
 },
 "nbformat": 4,
 "nbformat_minor": 5
}
